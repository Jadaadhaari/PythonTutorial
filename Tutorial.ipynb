{
  "nbformat": 4,
  "nbformat_minor": 0,
  "metadata": {
    "colab": {
      "name": "Untitled0.ipynb",
      "provenance": [],
      "collapsed_sections": [],
      "authorship_tag": "ABX9TyN4+HuM/QLy4fhcqNV2uxEz",
      "include_colab_link": true
    },
    "kernelspec": {
      "name": "python3",
      "display_name": "Python 3"
    },
    "language_info": {
      "name": "python"
    }
  },
  "cells": [
    {
      "cell_type": "markdown",
      "metadata": {
        "id": "view-in-github",
        "colab_type": "text"
      },
      "source": [
        "<a href=\"https://colab.research.google.com/github/Jadaadhaari/PythonTutorial/blob/main/Tutorial.ipynb\" target=\"_parent\"><img src=\"https://colab.research.google.com/assets/colab-badge.svg\" alt=\"Open In Colab\"/></a>"
      ]
    },
    {
      "cell_type": "markdown",
      "metadata": {
        "id": "lTKlHP2DKwIa"
      },
      "source": [
        "<h1> <font color=\"maroon\"><strong>Python Tutorial</strong></font></h1>\n",
        "This is the tutorial flow as listed in <a href=\"https://docs.python.org/3/tutorial/index.html\">Python Tutorial</a>"
      ]
    },
    {
      "cell_type": "code",
      "metadata": {
        "colab": {
          "base_uri": "https://localhost:8080/"
        },
        "id": "7bFrFBd6LU91",
        "outputId": "f9e975d4-10de-4813-93ea-1dd04c1f2240"
      },
      "source": [
        "is_world_flat = True\n",
        "if is_world_flat:\n",
        "    print('Be careful not to fall off!!')"
      ],
      "execution_count": null,
      "outputs": [
        {
          "output_type": "stream",
          "text": [
            "Be careful not to fall off!!\n"
          ],
          "name": "stdout"
        }
      ]
    },
    {
      "cell_type": "code",
      "metadata": {
        "colab": {
          "base_uri": "https://localhost:8080/"
        },
        "id": "N8858UvuNuNb",
        "outputId": "c129e483-5cd6-45bc-a3a9-5f5910777b66"
      },
      "source": [
        "2 + 2"
      ],
      "execution_count": null,
      "outputs": [
        {
          "output_type": "execute_result",
          "data": {
            "text/plain": [
              "4"
            ]
          },
          "metadata": {
            "tags": []
          },
          "execution_count": 15
        }
      ]
    },
    {
      "cell_type": "code",
      "metadata": {
        "colab": {
          "base_uri": "https://localhost:8080/"
        },
        "id": "vxYewCzJNrH5",
        "outputId": "86d8a723-8484-4837-80c1-56270dcf3e06"
      },
      "source": [
        "50 - (5 * 6)"
      ],
      "execution_count": null,
      "outputs": [
        {
          "output_type": "execute_result",
          "data": {
            "text/plain": [
              "20"
            ]
          },
          "metadata": {
            "tags": []
          },
          "execution_count": 16
        }
      ]
    },
    {
      "cell_type": "code",
      "metadata": {
        "colab": {
          "base_uri": "https://localhost:8080/"
        },
        "id": "-J7zlZqAesL9",
        "outputId": "7d2313bf-3d11-497f-a87f-c13dd2927225"
      },
      "source": [
        "(50 - (5 * 6)) / 4"
      ],
      "execution_count": null,
      "outputs": [
        {
          "output_type": "execute_result",
          "data": {
            "text/plain": [
              "5.0"
            ]
          },
          "metadata": {
            "tags": []
          },
          "execution_count": 17
        }
      ]
    },
    {
      "cell_type": "code",
      "metadata": {
        "colab": {
          "base_uri": "https://localhost:8080/"
        },
        "id": "gvG6lCPae09e",
        "outputId": "1b6a958c-fdce-43da-d67d-662d06fbdd6a"
      },
      "source": [
        "8 / 5"
      ],
      "execution_count": null,
      "outputs": [
        {
          "output_type": "execute_result",
          "data": {
            "text/plain": [
              "1.6"
            ]
          },
          "metadata": {
            "tags": []
          },
          "execution_count": 18
        }
      ]
    },
    {
      "cell_type": "code",
      "metadata": {
        "colab": {
          "base_uri": "https://localhost:8080/"
        },
        "id": "4ujEQewNe5y3",
        "outputId": "33e285e0-5b47-4c5b-d4cb-04efce9e51b5"
      },
      "source": [
        "17 / 3"
      ],
      "execution_count": null,
      "outputs": [
        {
          "output_type": "execute_result",
          "data": {
            "text/plain": [
              "5.666666666666667"
            ]
          },
          "metadata": {
            "tags": []
          },
          "execution_count": 19
        }
      ]
    },
    {
      "cell_type": "code",
      "metadata": {
        "colab": {
          "base_uri": "https://localhost:8080/"
        },
        "id": "PcUrxhXbe8XL",
        "outputId": "7e2e1b95-51a0-45de-8b18-af86522bd631"
      },
      "source": [
        "17 // 3"
      ],
      "execution_count": null,
      "outputs": [
        {
          "output_type": "execute_result",
          "data": {
            "text/plain": [
              "5"
            ]
          },
          "metadata": {
            "tags": []
          },
          "execution_count": 20
        }
      ]
    },
    {
      "cell_type": "code",
      "metadata": {
        "colab": {
          "base_uri": "https://localhost:8080/"
        },
        "id": "XSBfodHXfAWU",
        "outputId": "7000924a-7388-49b0-dcea-195205823191"
      },
      "source": [
        "17 % 3"
      ],
      "execution_count": null,
      "outputs": [
        {
          "output_type": "execute_result",
          "data": {
            "text/plain": [
              "2"
            ]
          },
          "metadata": {
            "tags": []
          },
          "execution_count": 21
        }
      ]
    },
    {
      "cell_type": "code",
      "metadata": {
        "colab": {
          "base_uri": "https://localhost:8080/"
        },
        "id": "qLhBA9g5fFut",
        "outputId": "8351d4ce-274b-492f-c2c2-ac2199be4f77"
      },
      "source": [
        "(5 * 3) + 2"
      ],
      "execution_count": null,
      "outputs": [
        {
          "output_type": "execute_result",
          "data": {
            "text/plain": [
              "17"
            ]
          },
          "metadata": {
            "tags": []
          },
          "execution_count": 22
        }
      ]
    },
    {
      "cell_type": "code",
      "metadata": {
        "colab": {
          "base_uri": "https://localhost:8080/"
        },
        "id": "U9ClCv_TfMgF",
        "outputId": "3d2b9f11-c201-496c-f585-63258f04dfb7"
      },
      "source": [
        "5 ** 2"
      ],
      "execution_count": null,
      "outputs": [
        {
          "output_type": "execute_result",
          "data": {
            "text/plain": [
              "25"
            ]
          },
          "metadata": {
            "tags": []
          },
          "execution_count": 23
        }
      ]
    },
    {
      "cell_type": "code",
      "metadata": {
        "colab": {
          "base_uri": "https://localhost:8080/"
        },
        "id": "bxIqtT70fP8I",
        "outputId": "72635853-ae7b-43e2-c870-af5cfc3deda1"
      },
      "source": [
        "2 ** 10"
      ],
      "execution_count": null,
      "outputs": [
        {
          "output_type": "execute_result",
          "data": {
            "text/plain": [
              "1024"
            ]
          },
          "metadata": {
            "tags": []
          },
          "execution_count": 27
        }
      ]
    },
    {
      "cell_type": "code",
      "metadata": {
        "colab": {
          "base_uri": "https://localhost:8080/"
        },
        "id": "uhHf7DLQfbVw",
        "outputId": "2fed4549-b369-4902-bc3e-121941e4bdc5"
      },
      "source": [
        "width = 20\n",
        "height = 5 * 9\n",
        "width * height"
      ],
      "execution_count": null,
      "outputs": [
        {
          "output_type": "execute_result",
          "data": {
            "text/plain": [
              "900"
            ]
          },
          "metadata": {
            "tags": []
          },
          "execution_count": 29
        }
      ]
    },
    {
      "cell_type": "code",
      "metadata": {
        "colab": {
          "base_uri": "https://localhost:8080/",
          "height": 164
        },
        "id": "AIiATd61fiON",
        "outputId": "1723c4ed-59e8-48ab-9782-8368e3b52318"
      },
      "source": [
        "n"
      ],
      "execution_count": null,
      "outputs": [
        {
          "output_type": "error",
          "ename": "NameError",
          "evalue": "ignored",
          "traceback": [
            "\u001b[0;31m---------------------------------------------------------------------------\u001b[0m",
            "\u001b[0;31mNameError\u001b[0m                                 Traceback (most recent call last)",
            "\u001b[0;32m<ipython-input-30-ab0680a89434>\u001b[0m in \u001b[0;36m<module>\u001b[0;34m()\u001b[0m\n\u001b[0;32m----> 1\u001b[0;31m \u001b[0mn\u001b[0m\u001b[0;34m\u001b[0m\u001b[0;34m\u001b[0m\u001b[0m\n\u001b[0m",
            "\u001b[0;31mNameError\u001b[0m: name 'n' is not defined"
          ]
        }
      ]
    },
    {
      "cell_type": "code",
      "metadata": {
        "colab": {
          "base_uri": "https://localhost:8080/"
        },
        "id": "f4k2QDwWfrWX",
        "outputId": "748f07f2-2819-4dac-993a-357a1f3c344c"
      },
      "source": [
        "4 * 3.75 - 1"
      ],
      "execution_count": null,
      "outputs": [
        {
          "output_type": "execute_result",
          "data": {
            "text/plain": [
              "14.0"
            ]
          },
          "metadata": {
            "tags": []
          },
          "execution_count": 31
        }
      ]
    },
    {
      "cell_type": "code",
      "metadata": {
        "colab": {
          "base_uri": "https://localhost:8080/"
        },
        "id": "yS1wU57Bf0vT",
        "outputId": "90b1aae2-e298-46c8-d955-d95186f5547e"
      },
      "source": [
        "tax = 12.5 / 100\n",
        "price = 100.50\n",
        "price * tax\n",
        "price + _\n",
        "round(_, 2)"
      ],
      "execution_count": null,
      "outputs": [
        {
          "output_type": "execute_result",
          "data": {
            "text/plain": [
              "113.06"
            ]
          },
          "metadata": {
            "tags": []
          },
          "execution_count": 40
        }
      ]
    },
    {
      "cell_type": "code",
      "metadata": {
        "colab": {
          "base_uri": "https://localhost:8080/",
          "height": 35
        },
        "id": "UBykl4YHgwMl",
        "outputId": "ac49deb0-be19-4666-ae9c-a507d08257cf"
      },
      "source": [
        "'spam eggs'\n",
        "'doesn\\'t'\n",
        "\"doesn't\"\n",
        "\"doesn\\'t\"\n",
        "'\"Yes,\" they said'\n",
        "\"\\\"Yes,\\\" they said\"\n",
        "'\\\"Isn\\'t,\\\" they said'"
      ],
      "execution_count": null,
      "outputs": [
        {
          "output_type": "execute_result",
          "data": {
            "application/vnd.google.colaboratory.intrinsic+json": {
              "type": "string"
            },
            "text/plain": [
              "'\"Isn\\'t,\" they said'"
            ]
          },
          "metadata": {
            "tags": []
          },
          "execution_count": 55
        }
      ]
    },
    {
      "cell_type": "code",
      "metadata": {
        "colab": {
          "base_uri": "https://localhost:8080/"
        },
        "id": "L1W66vW6mLvX",
        "outputId": "2e51d42c-dcb6-4b06-fdc4-6f86ed3dff35"
      },
      "source": [
        "s = \"First Line\\nSecond Line\"\n",
        "s\n",
        "print(s)"
      ],
      "execution_count": null,
      "outputs": [
        {
          "output_type": "stream",
          "text": [
            "First Line\n",
            "Second Line\n"
          ],
          "name": "stdout"
        }
      ]
    },
    {
      "cell_type": "code",
      "metadata": {
        "colab": {
          "base_uri": "https://localhost:8080/"
        },
        "id": "612fvufSmVX9",
        "outputId": "7b0e7970-43e5-4936-df3f-5f3d5a0c96e8"
      },
      "source": [
        "print('c:\\Some\\nSomeMore')\n",
        "print(r'c:\\Some\\nSomeMore')"
      ],
      "execution_count": null,
      "outputs": [
        {
          "output_type": "stream",
          "text": [
            "c:\\Some\n",
            "SomeMore\n",
            "c:\\Some\\nSomeMore\n"
          ],
          "name": "stdout"
        }
      ]
    },
    {
      "cell_type": "code",
      "metadata": {
        "colab": {
          "base_uri": "https://localhost:8080/"
        },
        "id": "i_JfHckWm8al",
        "outputId": "0f96477e-1cff-4c88-d687-cb63a15e9209"
      },
      "source": [
        "print(\"\"\"\\\n",
        "Usage: thingy [OPTIONS]\n",
        "    -h\n",
        "    -H hostname\n",
        "\"\"\")"
      ],
      "execution_count": null,
      "outputs": [
        {
          "output_type": "stream",
          "text": [
            "Usage: thingy [OPTIONS]\n",
            "    -h\n",
            "    -H hostname\n",
            "\n"
          ],
          "name": "stdout"
        }
      ]
    },
    {
      "cell_type": "code",
      "metadata": {
        "colab": {
          "base_uri": "https://localhost:8080/"
        },
        "id": "uhYEw14snEdK",
        "outputId": "b6609662-8178-4df3-f990-2a4f1eeb6a23"
      },
      "source": [
        "a = '3' + 'ium' + 'num'\n",
        "print(a)"
      ],
      "execution_count": null,
      "outputs": [
        {
          "output_type": "stream",
          "text": [
            "3iumnum\n"
          ],
          "name": "stdout"
        }
      ]
    },
    {
      "cell_type": "code",
      "metadata": {
        "colab": {
          "base_uri": "https://localhost:8080/",
          "height": 35
        },
        "id": "1cpr4U_4neZI",
        "outputId": "0770a43c-449f-4252-86fb-422ba45825c8"
      },
      "source": [
        "'Py' 'thon'"
      ],
      "execution_count": null,
      "outputs": [
        {
          "output_type": "execute_result",
          "data": {
            "application/vnd.google.colaboratory.intrinsic+json": {
              "type": "string"
            },
            "text/plain": [
              "'Python'"
            ]
          },
          "metadata": {
            "tags": []
          },
          "execution_count": 65
        }
      ]
    },
    {
      "cell_type": "code",
      "metadata": {
        "colab": {
          "base_uri": "https://localhost:8080/",
          "height": 35
        },
        "id": "tt1TiXyInlUu",
        "outputId": "cdf4f9e0-7c85-4222-d89d-b70609ecaf97"
      },
      "source": [
        "text = ('Put several strings within paranthesis '\n",
        "        'to have them joined together')\n",
        "text"
      ],
      "execution_count": null,
      "outputs": [
        {
          "output_type": "execute_result",
          "data": {
            "application/vnd.google.colaboratory.intrinsic+json": {
              "type": "string"
            },
            "text/plain": [
              "'Put several strings within paranthesis to have them joined together'"
            ]
          },
          "metadata": {
            "tags": []
          },
          "execution_count": 66
        }
      ]
    }
  ]
}
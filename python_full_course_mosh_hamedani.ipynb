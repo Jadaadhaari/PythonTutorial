{
  "nbformat": 4,
  "nbformat_minor": 0,
  "metadata": {
    "colab": {
      "provenance": [],
      "authorship_tag": "ABX9TyM7CZV4KgPq07t1MHsjJ2Cc",
      "include_colab_link": true
    },
    "kernelspec": {
      "name": "python3",
      "display_name": "Python 3"
    },
    "language_info": {
      "name": "python"
    }
  },
  "cells": [
    {
      "cell_type": "markdown",
      "metadata": {
        "id": "view-in-github",
        "colab_type": "text"
      },
      "source": [
        "<a href=\"https://colab.research.google.com/github/Jadaadhaari/PythonTutorial/blob/main/python_full_course_mosh_hamedani.ipynb\" target=\"_parent\"><img src=\"https://colab.research.google.com/assets/colab-badge.svg\" alt=\"Open In Colab\"/></a>"
      ]
    },
    {
      "cell_type": "code",
      "execution_count": 1,
      "metadata": {
        "colab": {
          "base_uri": "https://localhost:8080/"
        },
        "id": "7KPziyx5pmP2",
        "outputId": "20fcd6e0-f349-4721-c008-2834f04a45fe"
      },
      "outputs": [
        {
          "output_type": "stream",
          "name": "stdout",
          "text": [
            "Hello World!!\n"
          ]
        }
      ],
      "source": [
        "print(\"Hello World!!\")"
      ]
    },
    {
      "cell_type": "code",
      "source": [
        "print(\"000000000000000000000000000000\")\n",
        "print('||||||||||||||||||||||||||||||')\n",
        "print('*' * 30)"
      ],
      "metadata": {
        "colab": {
          "base_uri": "https://localhost:8080/"
        },
        "id": "X9_q85NGqnzc",
        "outputId": "cf003395-91fb-48c2-9b61-14a51ac7ad07"
      },
      "execution_count": 4,
      "outputs": [
        {
          "output_type": "stream",
          "name": "stdout",
          "text": [
            "000000000000000000000000000000\n",
            "||||||||||||||||||||||||||||||\n",
            "******************************\n"
          ]
        }
      ]
    },
    {
      "cell_type": "code",
      "source": [
        "price = 10.0\n",
        "quantity = 5\n",
        "final_price = (price * quantity)"
      ],
      "metadata": {
        "id": "LbHcFdkSwN3z"
      },
      "execution_count": 6,
      "outputs": []
    },
    {
      "cell_type": "code",
      "source": [
        "print(final_price)"
      ],
      "metadata": {
        "colab": {
          "base_uri": "https://localhost:8080/"
        },
        "id": "gkAdsanOyJuq",
        "outputId": "a9f98c8a-7d3e-4b01-cb70-996114de5ddf"
      },
      "execution_count": 7,
      "outputs": [
        {
          "output_type": "stream",
          "name": "stdout",
          "text": [
            "50.0\n"
          ]
        }
      ]
    },
    {
      "cell_type": "code",
      "source": [
        "patient_full_name = \"John Smith\"\n",
        "patient_age = 25\n",
        "is_new = True"
      ],
      "metadata": {
        "id": "RaSAKSKV1p7k"
      },
      "execution_count": 9,
      "outputs": []
    },
    {
      "cell_type": "code",
      "source": [
        "name = input(\"Your name?\\n\")\n",
        "print(\"Hello \" + name)"
      ],
      "metadata": {
        "colab": {
          "base_uri": "https://localhost:8080/"
        },
        "id": "klpZz4FP699k",
        "outputId": "f251933b-5ee4-4807-d923-ebfb787b7b7a"
      },
      "execution_count": 12,
      "outputs": [
        {
          "output_type": "stream",
          "name": "stdout",
          "text": [
            "Your name?\n",
            "Karthik\n",
            "Hello Karthik\n"
          ]
        }
      ]
    },
    {
      "cell_type": "code",
      "source": [
        "name = input(\"What is your name? \\n\")\n",
        "colour = input(\"what is your favourite colour? \\n\")\n",
        "print(name + \" likes \" + colour)"
      ],
      "metadata": {
        "colab": {
          "base_uri": "https://localhost:8080/"
        },
        "id": "c1BdjIkd7bKc",
        "outputId": "9534f6da-05df-4841-bcfe-07b427c0e315"
      },
      "execution_count": 13,
      "outputs": [
        {
          "output_type": "stream",
          "name": "stdout",
          "text": [
            "what is your favourite colour? \n",
            "Green\n",
            "Karthik likes Green\n"
          ]
        }
      ]
    }
  ]
}